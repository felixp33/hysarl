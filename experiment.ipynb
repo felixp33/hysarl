{
 "cells": [
  {
   "cell_type": "code",
   "execution_count": null,
   "metadata": {},
   "outputs": [],
   "source": [
    "from src.agents.sac_agent import SACAgent\n",
    "from src.sequentiell.pipeline import TrainingPipeline\n",
    "from src.compostion_buffer import CompositionReplayBuffer\n",
    "from src.environment_orchestrator import env_specs"
   ]
  },
  {
   "cell_type": "code",
   "execution_count": null,
   "metadata": {},
   "outputs": [
    {
     "name": "stdout",
     "output_type": "stream",
     "text": [
      "[{'mujoco': 1.0, 'brax': 0.0}, {'mujoco': 0.88, 'brax': 0.12}, {'mujoco': 0.75, 'brax': 0.25}, {'mujoco': 0.62, 'brax': 0.38}, {'mujoco': 0.5, 'brax': 0.5}, {'mujoco': 0.38, 'brax': 0.62}, {'mujoco': 0.25, 'brax': 0.75}, {'mujoco': 0.12, 'brax': 0.88}, {'mujoco': 0.0, 'brax': 1.0}]\n"
     ]
    }
   ],
   "source": [
    "def create_compositions_dict(n=10):\n",
    "    return [{'mujoco': round(1-x*(1/n), 2), 'brax': round(x*(1/n), 2)}for x in range(n+1)]\n",
    "\n",
    "\n",
    "print(create_compositions_dict(n=8))\n",
    "\n",
    "\n",
    "def halfchetah_experiment():\n",
    "    for _ in range(10):\n",
    "        for composition in create_compositions_dict():\n",
    "            env_name = 'HalfCheetah',\n",
    "\n",
    "            action_dim = env_specs[env_name]['action_dim']\n",
    "\n",
    "            composition_buffer = CompositionReplayBuffer(\n",
    "                capacity=500000,\n",
    "                strategy='stratified',\n",
    "                sampling_composition=composition,\n",
    "                buffer_composition={'mujoco': 0.5, 'brax': 0.5},\n",
    "                engine_counts={'mujoco': 1, 'brax': 1},\n",
    "                recency_bias=3.0\n",
    "            )\n",
    "\n",
    "            sac_agent = SACAgent(\n",
    "                state_dim=env_specs[env_name]['state_dim'],\n",
    "                action_dim=action_dim,\n",
    "                replay_buffer=composition_buffer,\n",
    "                hidden_dim=512,\n",
    "                lr=3e-4,\n",
    "                gamma=0.99,\n",
    "                tau=0.01,\n",
    "                target_entropy=-0.5*action_dim,\n",
    "                grad_clip=5.0,\n",
    "                warmup_steps=20000\n",
    "            )\n",
    "\n",
    "            pipeline = TrainingPipeline(\n",
    "                env_name=env_name,\n",
    "                batch_size=256,\n",
    "                episodes=500,\n",
    "                steps_per_episode=1000,\n",
    "                agent=sac_agent,\n",
    "                engine_dropout=True,\n",
    "                drop_out_limit=0.5\n",
    "            )\n",
    "\n",
    "            pipeline.run()"
   ]
  }
 ],
 "metadata": {
  "kernelspec": {
   "display_name": "hysarl",
   "language": "python",
   "name": "python3"
  },
  "language_info": {
   "codemirror_mode": {
    "name": "ipython",
    "version": 3
   },
   "file_extension": ".py",
   "mimetype": "text/x-python",
   "name": "python",
   "nbconvert_exporter": "python",
   "pygments_lexer": "ipython3",
   "version": "3.10.16"
  }
 },
 "nbformat": 4,
 "nbformat_minor": 2
}
