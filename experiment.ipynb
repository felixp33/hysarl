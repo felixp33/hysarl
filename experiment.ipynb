{
  "cells": [
    {
      "cell_type": "code",
      "execution_count": null,
      "metadata": {
        "colab": {
          "base_uri": "https://localhost:8080/",
          "height": 1000
        },
        "id": "yCOmKbRvEJeT",
        "outputId": "356cd70e-cffa-4eff-c54c-962155584d6a"
      },
      "outputs": [
        {
          "name": "stdout",
          "output_type": "stream",
          "text": [
            "No GPU found, using CPU\n",
            "Initializing fast Brax environment: halfcheetah\n",
            "✅ Fast Brax environment initialized with JIT compilation\n",
            "  Observation space: Box(-inf, inf, (17,), float32)\n",
            "  Action space: Box(-1.0, 1.0, (6,), float32)\n",
            "✅ Brax environments already registered.\n",
            "✅ Created mujoco environment: Ant-v4\n",
            "Initializing fast Brax environment: ant\n"
          ]
        },
        {
          "name": "stderr",
          "output_type": "stream",
          "text": [
            "/Users/felixpasewaldt/opt/anaconda3/envs/hysarl/lib/python3.10/site-packages/gymnasium/envs/registration.py:519: DeprecationWarning: \u001b[33mWARN: The environment Ant-v4 is out of date. You should consider upgrading to version `v5`.\u001b[0m\n",
            "  logger.deprecation(\n"
          ]
        },
        {
          "name": "stdout",
          "output_type": "stream",
          "text": [
            "✅ Fast Brax environment initialized with JIT compilation\n",
            "  Observation space: Box(-inf, inf, (27,), float32)\n",
            "  Action space: Box(-1.0, 1.0, (8,), float32)\n",
            "✅ Created brax environment: BraxAnt-v0\n",
            "✅ Created 2 environment types for sequential training.\n",
            "\n",
            "Episode 1/500 Summary:\n",
            "mujoco:  Mean Reward: 918.185  Mean Steps: 1000.0  Avg Duration: 0.178s\n",
            "brax:  Mean Reward: 85.181  Mean Steps: 104.0  Avg Duration: 4.078s\n",
            "\n",
            "Episode 11/500 Summary:\n",
            "mujoco:  Mean Reward: 952.380  Mean Steps: 1000.0  Avg Duration: 0.204s\n",
            "brax:  Mean Reward: 221.120  Mean Steps: 259.0  Avg Duration: 0.090s\n",
            "\n",
            "Episode 21/500 Summary:\n",
            "mujoco:  Mean Reward: 637.023  Mean Steps: 1000.0  Avg Duration: 0.197s\n",
            "brax:  Mean Reward: 10.556  Mean Steps: 19.0  Avg Duration: 0.046s\n",
            "\n",
            "Episode 31/500 Summary:\n",
            "mujoco:  Mean Reward: 706.588  Mean Steps: 1000.0  Avg Duration: 0.188s\n",
            "brax:  Mean Reward: 87.181  Mean Steps: 68.0  Avg Duration: 0.084s\n",
            "\n",
            "Episode 41/500 Summary:\n",
            "mujoco:  Mean Reward: 901.882  Mean Steps: 739.0  Avg Duration: 0.162s\n",
            "brax:  Mean Reward: 15.519  Mean Steps: 22.0  Avg Duration: 0.025s\n",
            "\n",
            "Episode 51/500 Summary:\n",
            "mujoco:  Mean Reward: 301.128  Mean Steps: 1000.0  Avg Duration: 0.127s\n",
            "brax:  Mean Reward: 21.493  Mean Steps: 14.0  Avg Duration: 0.058s\n",
            "\n",
            "Episode 61/500 Summary:\n",
            "mujoco:  Mean Reward: -421.642  Mean Steps: 1000.0  Avg Duration: 0.106s\n",
            "brax:  Mean Reward: 251.063  Mean Steps: 286.0  Avg Duration: 0.067s\n",
            "\n",
            "Episode 71/500 Summary:\n",
            "mujoco:  Mean Reward: 997.609  Mean Steps: 645.0  Avg Duration: 0.156s\n",
            "brax:  Mean Reward: 49.219  Mean Steps: 28.0  Avg Duration: 0.089s\n",
            "\n",
            "Episode 81/500 Summary:\n",
            "mujoco:  Mean Reward: 385.447  Mean Steps: 1000.0  Avg Duration: 0.076s\n",
            "brax:  Mean Reward: 318.400  Mean Steps: 197.0  Avg Duration: 0.073s\n",
            "\n",
            "Episode 91/500 Summary:\n",
            "mujoco:  Mean Reward: 725.872  Mean Steps: 1000.0  Avg Duration: 0.183s\n",
            "brax:  Mean Reward: 26.308  Mean Steps: 18.0  Avg Duration: 0.040s\n",
            "\n",
            "Episode 101/500 Summary:\n",
            "mujoco:  Mean Reward: -188.995  Mean Steps: 1000.0  Avg Duration: 0.129s\n",
            "brax:  Mean Reward: 129.309  Mean Steps: 67.0  Avg Duration: 0.070s\n",
            "\n",
            "Episode 111/500 Summary:\n",
            "mujoco:  Mean Reward: 1563.605  Mean Steps: 1000.0  Avg Duration: 0.134s\n",
            "brax:  Mean Reward: 442.843  Mean Steps: 225.0  Avg Duration: 0.153s\n",
            "\n",
            "Episode 121/500 Summary:\n",
            "mujoco:  Mean Reward: 883.736  Mean Steps: 468.0  Avg Duration: 0.100s\n",
            "brax:  Mean Reward: 266.276  Mean Steps: 120.0  Avg Duration: 0.060s\n",
            "\n",
            "Episode 131/500 Summary:\n",
            "mujoco:  Mean Reward: 72.058  Mean Steps: 1000.0  Avg Duration: 0.160s\n",
            "brax:  Mean Reward: 56.490  Mean Steps: 33.0  Avg Duration: 0.165s\n",
            "\n",
            "Episode 141/500 Summary:\n",
            "mujoco:  Mean Reward: 1082.718  Mean Steps: 519.0  Avg Duration: 0.138s\n",
            "brax:  Mean Reward: 131.195  Mean Steps: 53.0  Avg Duration: 0.215s\n"
          ]
        }
      ],
      "source": [
        "from src.experiments import ant_experiment_sac, halfchetah_experiment_sac, ant_experiment_td3\n",
        "\n",
        "ant_experiment_td3({'mujoco': 0.5, 'brax': 0.5}, n_runs=1)"
      ]
    }
  ],
  "metadata": {
    "colab": {
      "provenance": []
    },
    "kernelspec": {
      "display_name": "hysarl",
      "language": "python",
      "name": "python3"
    },
    "language_info": {
      "codemirror_mode": {
        "name": "ipython",
        "version": 3
      },
      "file_extension": ".py",
      "mimetype": "text/x-python",
      "name": "python",
      "nbconvert_exporter": "python",
      "pygments_lexer": "ipython3",
      "version": "3.10.16"
    }
  },
  "nbformat": 4,
  "nbformat_minor": 0
}
