{
 "cells": [
  {
   "cell_type": "code",
   "execution_count": null,
   "metadata": {},
   "outputs": [],
   "source": [
    "from src.agents.sac_agent import SACAgent\n",
    "from src.sequentiell.pipeline import TrainingPipeline\n",
    "from src.compostion_buffer import CompositionReplayBuffer\n",
    "from src.environment_orchestrator import env_specs"
   ]
  },
  {
   "cell_type": "code",
   "execution_count": null,
   "metadata": {},
   "outputs": [
    {
     "name": "stdout",
     "output_type": "stream",
     "text": [
      "[{'mujoco': 1.0, 'brax': 0.0}, {'mujoco': 0.88, 'brax': 0.12}, {'mujoco': 0.75, 'brax': 0.25}, {'mujoco': 0.62, 'brax': 0.38}, {'mujoco': 0.5, 'brax': 0.5}, {'mujoco': 0.38, 'brax': 0.62}, {'mujoco': 0.25, 'brax': 0.75}, {'mujoco': 0.12, 'brax': 0.88}, {'mujoco': 0.0, 'brax': 1.0}]\n"
     ]
    }
   ],
   "source": [
    "!git clone https://github.com/felixp33/hysarl\n",
    "\n",
    "import sys\n",
    "sys.path.append('/content/hysarl')\n",
    "\n",
    "%pip install brax\n",
    "\n",
    "from src.experiment import halfchetah_experiment\n",
    "\n",
    "\n",
    "halfchetah_experiment({'mujoco': 0.5, 'brax': 0.5})"
   ]
  }
 ],
 "metadata": {
  "kernelspec": {
   "display_name": "hysarl",
   "language": "python",
   "name": "python3"
  },
  "language_info": {
   "codemirror_mode": {
    "name": "ipython",
    "version": 3
   },
   "file_extension": ".py",
   "mimetype": "text/x-python",
   "name": "python",
   "nbconvert_exporter": "python",
   "pygments_lexer": "ipython3",
   "version": "3.10.16"
  }
 },
 "nbformat": 4,
 "nbformat_minor": 2
}
