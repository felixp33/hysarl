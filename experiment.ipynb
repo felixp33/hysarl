{
 "cells": [
  {
   "cell_type": "code",
   "execution_count": 7,
   "metadata": {},
   "outputs": [
    {
     "ename": "ModuleNotFoundError",
     "evalue": "No module named 'src.sac_agent'",
     "output_type": "error",
     "traceback": [
      "\u001b[0;31m---------------------------------------------------------------------------\u001b[0m",
      "\u001b[0;31mModuleNotFoundError\u001b[0m                       Traceback (most recent call last)",
      "Cell \u001b[0;32mIn[7], line 1\u001b[0m\n\u001b[0;32m----> 1\u001b[0m \u001b[38;5;28;01mfrom\u001b[39;00m\u001b[38;5;250m \u001b[39m\u001b[38;5;21;01msrc\u001b[39;00m\u001b[38;5;21;01m.\u001b[39;00m\u001b[38;5;21;01msac_agent\u001b[39;00m\u001b[38;5;250m \u001b[39m\u001b[38;5;28;01mimport\u001b[39;00m SACAgent\n\u001b[1;32m      2\u001b[0m \u001b[38;5;28;01mfrom\u001b[39;00m\u001b[38;5;250m \u001b[39m\u001b[38;5;21;01mtraining_pipeline\u001b[39;00m\u001b[38;5;250m \u001b[39m\u001b[38;5;28;01mimport\u001b[39;00m TrainingPipeline\n\u001b[1;32m      3\u001b[0m \u001b[38;5;28;01mfrom\u001b[39;00m\u001b[38;5;250m \u001b[39m\u001b[38;5;21;01mreplay_buffer\u001b[39;00m\u001b[38;5;250m \u001b[39m\u001b[38;5;28;01mimport\u001b[39;00m CompositionReplayBuffer\n",
      "\u001b[0;31mModuleNotFoundError\u001b[0m: No module named 'src.sac_agent'"
     ]
    }
   ],
   "source": [
    "from src.sac_agent import SACAgent\n",
    "from training_pipeline import TrainingPipeline\n",
    "from replay_buffer import CompositionReplayBuffer"
   ]
  },
  {
   "cell_type": "code",
   "execution_count": null,
   "metadata": {},
   "outputs": [
    {
     "ename": "NameError",
     "evalue": "name 'env_specs' is not defined",
     "output_type": "error",
     "traceback": [
      "\u001b[0;31m---------------------------------------------------------------------------\u001b[0m",
      "\u001b[0;31mNameError\u001b[0m                                 Traceback (most recent call last)",
      "Cell \u001b[0;32mIn[4], line 6\u001b[0m\n\u001b[1;32m      3\u001b[0m engines \u001b[38;5;241m=\u001b[39m {\u001b[38;5;124m'\u001b[39m\u001b[38;5;124mmujoco\u001b[39m\u001b[38;5;124m'\u001b[39m: \u001b[38;5;241m1\u001b[39m, \u001b[38;5;124m'\u001b[39m\u001b[38;5;124mbrax\u001b[39m\u001b[38;5;124m'\u001b[39m: \u001b[38;5;241m1\u001b[39m}\n\u001b[1;32m      5\u001b[0m \u001b[38;5;66;03m# Fetch dimensions from environment specs\u001b[39;00m\n\u001b[0;32m----> 6\u001b[0m state_dim \u001b[38;5;241m=\u001b[39m \u001b[43menv_specs\u001b[49m[env_name][\u001b[38;5;124m'\u001b[39m\u001b[38;5;124mstate_dim\u001b[39m\u001b[38;5;124m'\u001b[39m]\n\u001b[1;32m      7\u001b[0m action_dim \u001b[38;5;241m=\u001b[39m env_specs[env_name][\u001b[38;5;124m'\u001b[39m\u001b[38;5;124maction_dim\u001b[39m\u001b[38;5;124m'\u001b[39m]\n\u001b[1;32m      9\u001b[0m \u001b[38;5;66;03m# Initialize the composition-controlled replay buffer\u001b[39;00m\n",
      "\u001b[0;31mNameError\u001b[0m: name 'env_specs' is not defined"
     ]
    }
   ],
   "source": [
    "env_name = 'HalfCheetah'\n",
    "# Use one instance of each engine\n",
    "engines = {'mujoco': 1, 'brax': 1}\n",
    "\n",
    "# Fetch dimensions from environment specs\n",
    "state_dim = env_specs[env_name]['state_dim']\n",
    "action_dim = env_specs[env_name]['action_dim']\n",
    "\n",
    "# Initialize the composition-controlled replay buffer\n",
    "buffer_capacity = 500000\n",
    "composition_buffer = CompositionReplayBuffer(\n",
    "    capacity=buffer_capacity,\n",
    "    strategy='stratified',\n",
    "    sampling_composition={'mujoco': 0.3, 'brax': 0.7},\n",
    "    buffer_composition={'mujoco': 0.3, 'brax': 0.7},\n",
    "    engine_counts=engines,\n",
    "    recency_bias=3.0\n",
    ")\n",
    "\n",
    "# Initialize SAC agent with optimal parameters for HalfCheetah\n",
    "sac_agent = SACAgent(\n",
    "    state_dim=state_dim,\n",
    "    action_dim=action_dim,\n",
    "    replay_buffer=composition_buffer,\n",
    "    hidden_dim=512,\n",
    "    lr=3e-4,\n",
    "    gamma=0.99,\n",
    "    tau=0.01,\n",
    "    target_entropy=-0.5*action_dim,\n",
    "    grad_clip=5.0,\n",
    "    warmup_steps=20000\n",
    ")\n",
    "\n",
    "# Initialize the sequential training pipeline\n",
    "\n",
    "pipeline = TrainingPipeline(\n",
    "    env_name=env_name,\n",
    "    engines_dict=engines,\n",
    "    buffer_capacity=buffer_capacity,\n",
    "    batch_size=256,\n",
    "    episodes=500,\n",
    "    steps_per_episode=1000,\n",
    "    agent=sac_agent\n",
    "\n",
    ")"
   ]
  }
 ],
 "metadata": {
  "kernelspec": {
   "display_name": "hysarl",
   "language": "python",
   "name": "python3"
  },
  "language_info": {
   "codemirror_mode": {
    "name": "ipython",
    "version": 3
   },
   "file_extension": ".py",
   "mimetype": "text/x-python",
   "name": "python",
   "nbconvert_exporter": "python",
   "pygments_lexer": "ipython3",
   "version": "3.10.16"
  }
 },
 "nbformat": 4,
 "nbformat_minor": 2
}
