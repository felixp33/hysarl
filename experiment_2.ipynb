{
 "cells": [
  {
   "cell_type": "code",
   "execution_count": null,
   "metadata": {},
   "outputs": [
    {
     "name": "stdout",
     "output_type": "stream",
     "text": [
      "No GPU found, using CPU\n",
      "Registering BraxHalfCheetah-v0...\n",
      "✅ Successfully registered BraxHalfCheetah-v0\n",
      "Registering BraxAnt-v0...\n",
      "✅ Successfully registered BraxAnt-v0\n",
      "Registering BraxHumanoid-v0...\n",
      "✅ Successfully registered BraxHumanoid-v0\n",
      "Registering BraxWalker2d-v0...\n",
      "✅ Successfully registered BraxWalker2d-v0\n",
      "Registering BraxHopper-v0...\n",
      "✅ Successfully registered BraxHopper-v0\n",
      "Registering BraxReacher-v0...\n",
      "✅ Successfully registered BraxReacher-v0\n",
      "✅ Brax environments registration complete\n"
     ]
    },
    {
     "name": "stderr",
     "output_type": "stream",
     "text": [
      "/Users/felixpasewaldt/opt/anaconda3/envs/hysarl/lib/python3.10/site-packages/gymnasium/envs/registration.py:519: DeprecationWarning: \u001b[33mWARN: The environment HalfCheetah-v4 is out of date. You should consider upgrading to version `v5`.\u001b[0m\n",
      "  logger.deprecation(\n"
     ]
    },
    {
     "name": "stdout",
     "output_type": "stream",
     "text": [
      "✅ Created mujoco environment: HalfCheetah-v4\n",
      "Initializing fast Brax environment: halfcheetah\n",
      "✅ Fast Brax environment initialized with JIT compilation\n",
      "  Observation space: Box(-inf, inf, (17,), float32)\n",
      "  Action space: Box(-1.0, 1.0, (6,), float32)\n",
      "✅ Created brax environment: BraxHalfCheetah-v0\n",
      "✅ Created 2 environment types for sequential training.\n",
      "\n",
      "Episode 1/500 Summary:\n",
      "mujoco:  Mean Reward: -6.862  Mean Steps: 1000.0  Avg Duration: 0.038s\n",
      "brax:  Mean Reward: 41.643  Mean Steps: 1000.0  Avg Duration: 5.812s\n",
      "\n",
      "Episode 11/500 Summary:\n",
      "mujoco:  Mean Reward: -249.859  Mean Steps: 1000.0  Avg Duration: 0.043s\n",
      "brax:  Mean Reward: -214.064  Mean Steps: 1000.0  Avg Duration: 0.870s\n",
      "\n",
      "Episode 21/500 Summary:\n",
      "mujoco:  Mean Reward: 413.835  Mean Steps: 1000.0  Avg Duration: 0.039s\n",
      "brax:  Mean Reward: 489.852  Mean Steps: 1000.0  Avg Duration: 0.744s\n",
      "\n",
      "Episode 31/500 Summary:\n",
      "mujoco:  Mean Reward: 1046.389  Mean Steps: 1000.0  Avg Duration: 0.037s\n",
      "brax:  Mean Reward: 1178.232  Mean Steps: 1000.0  Avg Duration: 0.762s\n",
      "\n",
      "Episode 41/500 Summary:\n",
      "mujoco:  Mean Reward: 1506.268  Mean Steps: 1000.0  Avg Duration: 0.036s\n",
      "brax:  Mean Reward: 1818.101  Mean Steps: 1000.0  Avg Duration: 0.842s\n",
      "\n",
      "Episode 51/500 Summary:\n",
      "mujoco:  Mean Reward: 1568.793  Mean Steps: 1000.0  Avg Duration: 0.037s\n",
      "brax:  Mean Reward: 2278.479  Mean Steps: 1000.0  Avg Duration: 0.960s\n",
      "\n",
      "Episode 61/500 Summary:\n",
      "mujoco:  Mean Reward: 1707.703  Mean Steps: 1000.0  Avg Duration: 0.038s\n",
      "brax:  Mean Reward: 1974.809  Mean Steps: 1000.0  Avg Duration: 0.874s\n",
      "\n",
      "Episode 71/500 Summary:\n",
      "mujoco:  Mean Reward: 1946.899  Mean Steps: 1000.0  Avg Duration: 0.036s\n",
      "brax:  Mean Reward: 2826.703  Mean Steps: 1000.0  Avg Duration: 0.889s\n"
     ]
    }
   ],
   "source": [
    "from src.experiments import ant_experiment_sac, halfchetah_experiment_sac, halfcheetah_experiment_td3\n",
    "\n",
    "halfcheetah_experiment_td3({'mujoco': 0, 'brax': 1}, n_runs=1)"
   ]
  }
 ],
 "metadata": {
  "kernelspec": {
   "display_name": "hysarl",
   "language": "python",
   "name": "python3"
  },
  "language_info": {
   "codemirror_mode": {
    "name": "ipython",
    "version": 3
   },
   "file_extension": ".py",
   "mimetype": "text/x-python",
   "name": "python",
   "nbconvert_exporter": "python",
   "pygments_lexer": "ipython3",
   "version": "3.10.16"
  }
 },
 "nbformat": 4,
 "nbformat_minor": 2
}
