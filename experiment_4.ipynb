{
 "cells": [
  {
   "cell_type": "code",
   "execution_count": null,
   "metadata": {},
   "outputs": [
    {
     "name": "stdout",
     "output_type": "stream",
     "text": [
      "No GPU found, using CPU\n",
      "Initializing fast Brax environment: halfcheetah\n",
      "✅ Fast Brax environment initialized with JIT compilation\n",
      "  Observation space: Box(-inf, inf, (17,), float32)\n",
      "  Action space: Box(-1.0, 1.0, (6,), float32)\n",
      "✅ Brax environments already registered.\n",
      "✅ Created mujoco environment: HalfCheetah-v4\n",
      "Initializing fast Brax environment: halfcheetah\n"
     ]
    },
    {
     "name": "stderr",
     "output_type": "stream",
     "text": [
      "/Users/felixpasewaldt/opt/anaconda3/envs/hysarl/lib/python3.10/site-packages/gymnasium/envs/registration.py:519: DeprecationWarning: \u001b[33mWARN: The environment HalfCheetah-v4 is out of date. You should consider upgrading to version `v5`.\u001b[0m\n",
      "  logger.deprecation(\n"
     ]
    },
    {
     "name": "stdout",
     "output_type": "stream",
     "text": [
      "✅ Fast Brax environment initialized with JIT compilation\n",
      "  Observation space: Box(-inf, inf, (17,), float32)\n",
      "  Action space: Box(-1.0, 1.0, (6,), float32)\n",
      "✅ Created brax environment: BraxHalfCheetah-v0\n",
      "✅ Created 2 environment types for sequential training.\n",
      "\n",
      "Episode 1/500 Summary:\n",
      "mujoco:  Mean Reward: -7.017  Mean Steps: 1000.0  Avg Duration: 0.041s\n",
      "brax:  Mean Reward: 46.461  Mean Steps: 1000.0  Avg Duration: 5.115s\n",
      "\n",
      "Episode 11/500 Summary:\n",
      "mujoco:  Mean Reward: -324.434  Mean Steps: 1000.0  Avg Duration: 0.041s\n",
      "brax:  Mean Reward: -554.162  Mean Steps: 1000.0  Avg Duration: 0.940s\n",
      "\n",
      "Episode 21/500 Summary:\n",
      "mujoco:  Mean Reward: 159.802  Mean Steps: 1000.0  Avg Duration: 0.045s\n",
      "brax:  Mean Reward: -1065.630  Mean Steps: 1000.0  Avg Duration: 0.932s\n",
      "\n",
      "Episode 31/500 Summary:\n",
      "mujoco:  Mean Reward: 410.564  Mean Steps: 1000.0  Avg Duration: 0.047s\n",
      "brax:  Mean Reward: -1171.333  Mean Steps: 1000.0  Avg Duration: 0.880s\n",
      "\n",
      "Episode 41/500 Summary:\n",
      "mujoco:  Mean Reward: 441.022  Mean Steps: 1000.0  Avg Duration: 0.046s\n",
      "brax:  Mean Reward: -436.412  Mean Steps: 1000.0  Avg Duration: 0.873s\n",
      "\n",
      "Episode 51/500 Summary:\n",
      "mujoco:  Mean Reward: 597.805  Mean Steps: 1000.0  Avg Duration: 0.047s\n",
      "brax:  Mean Reward: -267.298  Mean Steps: 1000.0  Avg Duration: 0.962s\n",
      "\n",
      "Episode 61/500 Summary:\n",
      "mujoco:  Mean Reward: 557.068  Mean Steps: 1000.0  Avg Duration: 0.048s\n",
      "brax:  Mean Reward: -224.276  Mean Steps: 1000.0  Avg Duration: 0.864s\n",
      "\n",
      "Episode 71/500 Summary:\n",
      "mujoco:  Mean Reward: 642.584  Mean Steps: 1000.0  Avg Duration: 0.044s\n",
      "brax:  Mean Reward: -193.592  Mean Steps: 1000.0  Avg Duration: 0.846s\n",
      "\n",
      "Episode 81/500 Summary:\n",
      "mujoco:  Mean Reward: 814.927  Mean Steps: 1000.0  Avg Duration: 0.044s\n",
      "brax:  Mean Reward: -203.983  Mean Steps: 1000.0  Avg Duration: 0.886s\n",
      "\n",
      "Episode 91/500 Summary:\n",
      "mujoco:  Mean Reward: 968.698  Mean Steps: 1000.0  Avg Duration: 0.045s\n",
      "brax:  Mean Reward: -146.638  Mean Steps: 1000.0  Avg Duration: 0.871s\n",
      "\n",
      "Episode 101/500 Summary:\n",
      "mujoco:  Mean Reward: -305.424  Mean Steps: 1000.0  Avg Duration: 0.044s\n",
      "brax:  Mean Reward: -294.578  Mean Steps: 1000.0  Avg Duration: 0.910s\n",
      "\n",
      "Episode 111/500 Summary:\n",
      "mujoco:  Mean Reward: 519.473  Mean Steps: 1000.0  Avg Duration: 0.048s\n",
      "brax:  Mean Reward: -132.441  Mean Steps: 1000.0  Avg Duration: 0.872s\n",
      "\n",
      "Episode 121/500 Summary:\n",
      "mujoco:  Mean Reward: 917.990  Mean Steps: 1000.0  Avg Duration: 0.044s\n",
      "brax:  Mean Reward: -431.901  Mean Steps: 1000.0  Avg Duration: 0.883s\n"
     ]
    }
   ],
   "source": [
    "from src.experiments import ant_experiment_sac, quick_test_experiment, halfchetah_experiment_sac, halfcheetah_experiment_td3\n",
    "\n",
    "halfcheetah_experiment_td3({'mujoco': 0.25, 'brax': 0.75}, n_runs=2)"
   ]
  }
 ],
 "metadata": {
  "kernelspec": {
   "display_name": "hysarl",
   "language": "python",
   "name": "python3"
  },
  "language_info": {
   "codemirror_mode": {
    "name": "ipython",
    "version": 3
   },
   "file_extension": ".py",
   "mimetype": "text/x-python",
   "name": "python",
   "nbconvert_exporter": "python",
   "pygments_lexer": "ipython3",
   "version": "3.10.16"
  }
 },
 "nbformat": 4,
 "nbformat_minor": 2
}
