{
 "cells": [
  {
   "cell_type": "code",
   "execution_count": null,
   "metadata": {},
   "outputs": [
    {
     "name": "stdout",
     "output_type": "stream",
     "text": [
      "No GPU found, using CPU\n",
      "Initializing fast Brax environment: halfcheetah\n",
      "✅ Fast Brax environment initialized with JIT compilation\n",
      "  Observation space: Box(-inf, inf, (17,), float32)\n",
      "  Action space: Box(-1.0, 1.0, (6,), float32)\n",
      "✅ Brax environments already registered.\n",
      "✅ Created mujoco environment: HalfCheetah-v4\n",
      "Initializing fast Brax environment: halfcheetah\n"
     ]
    },
    {
     "name": "stderr",
     "output_type": "stream",
     "text": [
      "/Users/felixpasewaldt/opt/anaconda3/envs/hysarl/lib/python3.10/site-packages/gymnasium/envs/registration.py:519: DeprecationWarning: \u001b[33mWARN: The environment HalfCheetah-v4 is out of date. You should consider upgrading to version `v5`.\u001b[0m\n",
      "  logger.deprecation(\n"
     ]
    },
    {
     "name": "stdout",
     "output_type": "stream",
     "text": [
      "✅ Fast Brax environment initialized with JIT compilation\n",
      "  Observation space: Box(-inf, inf, (17,), float32)\n",
      "  Action space: Box(-1.0, 1.0, (6,), float32)\n",
      "✅ Created brax environment: BraxHalfCheetah-v0\n",
      "✅ Created 2 environment types for sequential training.\n",
      "\n",
      "Episode 1/500 Summary:\n",
      "mujoco:  Mean Reward: -7.159  Mean Steps: 1000.0  Avg Duration: 0.047s\n",
      "brax:  Mean Reward: 45.095  Mean Steps: 1000.0  Avg Duration: 5.963s\n",
      "\n",
      "Episode 11/500 Summary:\n",
      "mujoco:  Mean Reward: -573.298  Mean Steps: 1000.0  Avg Duration: 0.047s\n",
      "brax:  Mean Reward: -1953.646  Mean Steps: 1000.0  Avg Duration: 1.130s\n",
      "\n",
      "Episode 21/500 Summary:\n",
      "mujoco:  Mean Reward: 315.240  Mean Steps: 1000.0  Avg Duration: 0.049s\n",
      "brax:  Mean Reward: 154.603  Mean Steps: 1000.0  Avg Duration: 1.039s\n",
      "\n",
      "Episode 31/500 Summary:\n",
      "mujoco:  Mean Reward: 1859.745  Mean Steps: 1000.0  Avg Duration: 0.044s\n",
      "brax:  Mean Reward: 1164.861  Mean Steps: 1000.0  Avg Duration: 0.966s\n",
      "\n",
      "Episode 41/500 Summary:\n",
      "mujoco:  Mean Reward: 1894.759  Mean Steps: 1000.0  Avg Duration: 0.064s\n",
      "brax:  Mean Reward: 1709.924  Mean Steps: 1000.0  Avg Duration: 1.045s\n",
      "\n",
      "Episode 51/500 Summary:\n",
      "mujoco:  Mean Reward: 2555.197  Mean Steps: 1000.0  Avg Duration: 0.045s\n",
      "brax:  Mean Reward: 1727.988  Mean Steps: 1000.0  Avg Duration: 1.041s\n",
      "\n",
      "Episode 61/500 Summary:\n",
      "mujoco:  Mean Reward: 2925.184  Mean Steps: 1000.0  Avg Duration: 0.045s\n",
      "brax:  Mean Reward: 2087.141  Mean Steps: 1000.0  Avg Duration: 0.977s\n",
      "\n",
      "Episode 71/500 Summary:\n",
      "mujoco:  Mean Reward: 3059.042  Mean Steps: 1000.0  Avg Duration: 0.042s\n",
      "brax:  Mean Reward: 2192.714  Mean Steps: 1000.0  Avg Duration: 0.921s\n",
      "\n",
      "Episode 81/500 Summary:\n",
      "mujoco:  Mean Reward: 3741.865  Mean Steps: 1000.0  Avg Duration: 0.040s\n",
      "brax:  Mean Reward: 2969.778  Mean Steps: 1000.0  Avg Duration: 0.907s\n",
      "\n",
      "Episode 91/500 Summary:\n",
      "mujoco:  Mean Reward: 3750.402  Mean Steps: 1000.0  Avg Duration: 0.041s\n",
      "brax:  Mean Reward: 1974.633  Mean Steps: 1000.0  Avg Duration: 0.933s\n",
      "\n",
      "Episode 101/500 Summary:\n",
      "mujoco:  Mean Reward: 3601.144  Mean Steps: 1000.0  Avg Duration: 0.047s\n",
      "brax:  Mean Reward: 2350.332  Mean Steps: 1000.0  Avg Duration: 0.972s\n",
      "\n",
      "Episode 111/500 Summary:\n",
      "mujoco:  Mean Reward: 4151.935  Mean Steps: 1000.0  Avg Duration: 0.043s\n",
      "brax:  Mean Reward: 1774.832  Mean Steps: 1000.0  Avg Duration: 0.930s\n",
      "\n",
      "Episode 121/500 Summary:\n",
      "mujoco:  Mean Reward: 4107.130  Mean Steps: 1000.0  Avg Duration: 0.043s\n",
      "brax:  Mean Reward: 1313.987  Mean Steps: 1000.0  Avg Duration: 1.018s\n",
      "\n",
      "Episode 131/500 Summary:\n",
      "mujoco:  Mean Reward: 4188.212  Mean Steps: 1000.0  Avg Duration: 0.041s\n",
      "brax:  Mean Reward: 2517.087  Mean Steps: 1000.0  Avg Duration: 0.925s\n"
     ]
    }
   ],
   "source": [
    "from src.experiments import ant_experiment_sac, quick_test_experiment, halfchetah_experiment_sac, halfcheetah_experiment_td3\n",
    "\n",
    "halfcheetah_experiment_td3({'mujoco': 1, 'brax': 0.}, n_runs=2)"
   ]
  }
 ],
 "metadata": {
  "kernelspec": {
   "display_name": "hysarl",
   "language": "python",
   "name": "python3"
  },
  "language_info": {
   "codemirror_mode": {
    "name": "ipython",
    "version": 3
   },
   "file_extension": ".py",
   "mimetype": "text/x-python",
   "name": "python",
   "nbconvert_exporter": "python",
   "pygments_lexer": "ipython3",
   "version": "3.10.16"
  }
 },
 "nbformat": 4,
 "nbformat_minor": 2
}
