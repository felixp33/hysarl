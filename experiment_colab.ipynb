{
 "cells": [
  {
   "cell_type": "code",
   "execution_count": null,
   "metadata": {},
   "outputs": [],
   "source": [
    "!git clone https://github.com/felixp33/hysarl.git\n",
    "%cd hysarl"
   ]
  },
  {
   "cell_type": "code",
   "execution_count": null,
   "metadata": {},
   "outputs": [],
   "source": [
    "%pip install gymnasium torch brax matplotlib numpy pandas h5py\n",
    "%pip install brax\n",
    "\n",
    "\n",
    "from src.experiments import halfcheetah_experiment_td3\n",
    "from src.registration import register_all_envs\n",
    "\n",
    "# Register all environments\n",
    "register_all_envs()\n",
    "\n",
    "# Run experiment with specified composition between MuJoCo and Brax\n",
    "halfcheetah_experiment_td3({'mujoco': 0.75, 'brax': 0.25}, n_runs=1)"
   ]
  }
 ],
 "metadata": {
  "language_info": {
   "name": "python"
  }
 },
 "nbformat": 4,
 "nbformat_minor": 2
}
