{
 "cells": [
  {
   "cell_type": "code",
   "execution_count": 1,
   "metadata": {},
   "outputs": [
    {
     "name": "stdout",
     "output_type": "stream",
     "text": [
      "JAX Devices: [CpuDevice(id=0)]\n",
      "Default device: cpu\n",
      "GPU operation took 0.1143 seconds\n"
     ]
    }
   ],
   "source": [
    "import time\n",
    "import jax\n",
    "import jax.numpy as jnp\n",
    "\n",
    "# Check available devices\n",
    "print(\"JAX Devices:\", jax.devices())\n",
    "\n",
    "# Verify GPU is being used\n",
    "print(\"Default device:\", jax.default_backend())\n",
    "\n",
    "# Simple GPU test\n",
    "\n",
    "\n",
    "def gpu_test():\n",
    "    x = jnp.ones((1000, 1000))\n",
    "    y = jnp.dot(x, x.T)\n",
    "    return y\n",
    "\n",
    "\n",
    "# Time the GPU operation\n",
    "start = time.time()\n",
    "result = gpu_test()\n",
    "end = time.time()\n",
    "print(f\"GPU operation took {end - start:.4f} seconds\")"
   ]
  }
 ],
 "metadata": {
  "kernelspec": {
   "display_name": "hysarl",
   "language": "python",
   "name": "python3"
  },
  "language_info": {
   "codemirror_mode": {
    "name": "ipython",
    "version": 3
   },
   "file_extension": ".py",
   "mimetype": "text/x-python",
   "name": "python",
   "nbconvert_exporter": "python",
   "pygments_lexer": "ipython3",
   "version": "3.10.16"
  }
 },
 "nbformat": 4,
 "nbformat_minor": 2
}
