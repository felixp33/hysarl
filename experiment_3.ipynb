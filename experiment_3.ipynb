{
 "cells": [
  {
   "cell_type": "code",
   "execution_count": null,
   "metadata": {},
   "outputs": [
    {
     "name": "stdout",
     "output_type": "stream",
     "text": [
      "No GPU found, using CPU\n",
      "Initializing fast Brax environment: halfcheetah\n",
      "✅ Fast Brax environment initialized with JIT compilation\n",
      "  Observation space: Box(-inf, inf, (17,), float32)\n",
      "  Action space: Box(-1.0, 1.0, (6,), float32)\n",
      "✅ Brax environments already registered.\n",
      "✅ Created mujoco environment: Ant-v4\n",
      "Initializing fast Brax environment: ant\n"
     ]
    },
    {
     "name": "stderr",
     "output_type": "stream",
     "text": [
      "/Users/felixpasewaldt/opt/anaconda3/envs/hysarl/lib/python3.10/site-packages/gymnasium/envs/registration.py:519: DeprecationWarning: \u001b[33mWARN: The environment Ant-v4 is out of date. You should consider upgrading to version `v5`.\u001b[0m\n",
      "  logger.deprecation(\n"
     ]
    },
    {
     "name": "stdout",
     "output_type": "stream",
     "text": [
      "✅ Fast Brax environment initialized with JIT compilation\n",
      "  Observation space: Box(-inf, inf, (27,), float32)\n",
      "  Action space: Box(-1.0, 1.0, (8,), float32)\n",
      "✅ Created brax environment: BraxAnt-v0\n",
      "✅ Created 2 environment types for sequential training.\n"
     ]
    },
    {
     "name": "stderr",
     "output_type": "stream",
     "text": [
      "/Users/felixpasewaldt/opt/anaconda3/envs/hysarl/lib/python3.10/site-packages/numpy/_core/fromnumeric.py:3860: RuntimeWarning: Mean of empty slice.\n",
      "  return _methods._mean(a, axis=axis, dtype=dtype,\n",
      "/Users/felixpasewaldt/opt/anaconda3/envs/hysarl/lib/python3.10/site-packages/numpy/_core/_methods.py:145: RuntimeWarning: invalid value encountered in scalar divide\n",
      "  ret = ret.dtype.type(ret / rcount)\n"
     ]
    },
    {
     "name": "stdout",
     "output_type": "stream",
     "text": [
      "\n",
      "Episode 1/500 Summary:\n",
      "mujoco:  Mean Reward: 963.726  Mean Steps: 1000.0  Avg Duration: 0.205s\n",
      "brax:  Mean Reward: 133.288  Mean Steps: 126.0  Avg Duration: 6.145s\n",
      "\n",
      "Episode 11/500 Summary:\n",
      "mujoco:  Mean Reward: 943.172  Mean Steps: 1000.0  Avg Duration: 0.203s\n",
      "brax:  Mean Reward: 419.905  Mean Steps: 375.0  Avg Duration: 0.250s\n",
      "\n",
      "Episode 21/500 Summary:\n",
      "mujoco:  Mean Reward: 464.704  Mean Steps: 1000.0  Avg Duration: 0.130s\n",
      "brax:  Mean Reward: 0.047  Mean Steps: 11.0  Avg Duration: 0.117s\n",
      "\n",
      "Episode 31/500 Summary:\n",
      "mujoco:  Mean Reward: 526.310  Mean Steps: 1000.0  Avg Duration: 0.182s\n",
      "brax:  Mean Reward: 23.334  Mean Steps: 41.0  Avg Duration: 0.048s\n",
      "\n",
      "Episode 41/500 Summary:\n",
      "mujoco:  Mean Reward: 238.878  Mean Steps: 1000.0  Avg Duration: 0.172s\n",
      "brax:  Mean Reward: 4.027  Mean Steps: 15.0  Avg Duration: 0.106s\n",
      "\n",
      "Episode 51/500 Summary:\n",
      "mujoco:  Mean Reward: 189.018  Mean Steps: 1000.0  Avg Duration: 0.178s\n",
      "brax:  Mean Reward: 41.295  Mean Steps: 26.0  Avg Duration: 0.046s\n",
      "\n",
      "Episode 61/500 Summary:\n",
      "mujoco:  Mean Reward: 79.932  Mean Steps: 80.0  Avg Duration: 0.121s\n",
      "brax:  Mean Reward: 53.895  Mean Steps: 46.0  Avg Duration: 0.086s\n",
      "\n",
      "Episode 71/500 Summary:\n",
      "mujoco:  Mean Reward: 23.066  Mean Steps: 64.0  Avg Duration: 0.077s\n",
      "brax:  Mean Reward: 87.147  Mean Steps: 48.0  Avg Duration: 0.112s\n",
      "\n",
      "Episode 81/500 Summary:\n",
      "mujoco:  Mean Reward: 485.684  Mean Steps: 1000.0  Avg Duration: 0.113s\n",
      "brax:  Mean Reward: 119.896  Mean Steps: 99.0  Avg Duration: 0.100s\n",
      "\n",
      "Episode 91/500 Summary:\n",
      "mujoco:  Mean Reward: 334.234  Mean Steps: 1000.0  Avg Duration: 0.150s\n",
      "brax:  Mean Reward: 24.985  Mean Steps: 22.0  Avg Duration: 0.075s\n",
      "\n",
      "Episode 101/500 Summary:\n",
      "mujoco:  Mean Reward: -115.535  Mean Steps: 1000.0  Avg Duration: 0.118s\n",
      "brax:  Mean Reward: 823.480  Mean Steps: 462.0  Avg Duration: 0.152s\n",
      "\n",
      "Episode 111/500 Summary:\n",
      "mujoco:  Mean Reward: 572.562  Mean Steps: 392.0  Avg Duration: 0.155s\n",
      "brax:  Mean Reward: 182.140  Mean Steps: 103.0  Avg Duration: 0.104s\n",
      "\n",
      "Episode 121/500 Summary:\n",
      "mujoco:  Mean Reward: 418.468  Mean Steps: 1000.0  Avg Duration: 0.117s\n",
      "brax:  Mean Reward: 27.160  Mean Steps: 35.0  Avg Duration: 0.068s\n",
      "\n",
      "Episode 131/500 Summary:\n",
      "mujoco:  Mean Reward: 240.561  Mean Steps: 157.0  Avg Duration: 0.125s\n",
      "brax:  Mean Reward: 817.461  Mean Steps: 406.0  Avg Duration: 0.157s\n",
      "\n",
      "Episode 141/500 Summary:\n",
      "mujoco:  Mean Reward: 292.229  Mean Steps: 1000.0  Avg Duration: 0.166s\n",
      "brax:  Mean Reward: 412.799  Mean Steps: 216.0  Avg Duration: 0.191s\n",
      "\n",
      "Episode 151/500 Summary:\n",
      "mujoco:  Mean Reward: 1605.546  Mean Steps: 1000.0  Avg Duration: 0.120s\n",
      "brax:  Mean Reward: 271.286  Mean Steps: 179.0  Avg Duration: 0.073s\n",
      "\n",
      "Episode 161/500 Summary:\n",
      "mujoco:  Mean Reward: 774.942  Mean Steps: 384.0  Avg Duration: 0.138s\n",
      "brax:  Mean Reward: 527.269  Mean Steps: 303.0  Avg Duration: 0.173s\n",
      "\n",
      "Episode 171/500 Summary:\n",
      "mujoco:  Mean Reward: 319.960  Mean Steps: 1000.0  Avg Duration: 0.145s\n",
      "brax:  Mean Reward: 733.303  Mean Steps: 422.0  Avg Duration: 0.247s\n",
      "\n",
      "Episode 181/500 Summary:\n",
      "mujoco:  Mean Reward: 2029.682  Mean Steps: 1000.0  Avg Duration: 0.184s\n",
      "brax:  Mean Reward: 1018.731  Mean Steps: 423.0  Avg Duration: 0.236s\n",
      "\n",
      "Episode 191/500 Summary:\n",
      "mujoco:  Mean Reward: 727.452  Mean Steps: 1000.0  Avg Duration: 0.185s\n",
      "brax:  Mean Reward: 260.276  Mean Steps: 101.0  Avg Duration: 0.164s\n",
      "\n",
      "Episode 201/500 Summary:\n",
      "mujoco:  Mean Reward: 327.486  Mean Steps: 154.0  Avg Duration: 0.150s\n",
      "brax:  Mean Reward: 898.004  Mean Steps: 323.0  Avg Duration: 0.340s\n",
      "\n",
      "Episode 211/500 Summary:\n",
      "mujoco:  Mean Reward: 119.288  Mean Steps: 65.0  Avg Duration: 0.139s\n",
      "brax:  Mean Reward: 2987.923  Mean Steps: 1000.0  Avg Duration: 0.354s\n",
      "\n",
      "Episode 221/500 Summary:\n",
      "mujoco:  Mean Reward: 2394.366  Mean Steps: 1000.0  Avg Duration: 0.179s\n",
      "brax:  Mean Reward: 1657.588  Mean Steps: 493.0  Avg Duration: 0.346s\n"
     ]
    }
   ],
   "source": [
    "from src.experiments import ant_experiment_sac, quick_test_experiment, halfchetah_experiment_sac, halfcheetah_experiment_td3, ant_experiment_sac\n",
    "\n",
    "ant_experiment_sac({'mujoco': 0.25, 'brax': 0.75}, n_runs=3)"
   ]
  }
 ],
 "metadata": {
  "kernelspec": {
   "display_name": "hysarl",
   "language": "python",
   "name": "python3"
  },
  "language_info": {
   "codemirror_mode": {
    "name": "ipython",
    "version": 3
   },
   "file_extension": ".py",
   "mimetype": "text/x-python",
   "name": "python",
   "nbconvert_exporter": "python",
   "pygments_lexer": "ipython3",
   "version": "3.10.16"
  }
 },
 "nbformat": 4,
 "nbformat_minor": 2
}
