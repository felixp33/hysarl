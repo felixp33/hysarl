{
 "cells": [
  {
   "cell_type": "code",
   "execution_count": null,
   "metadata": {},
   "outputs": [
    {
     "name": "stderr",
     "output_type": "stream",
     "text": [
      "/Users/felixpasewaldt/opt/anaconda3/envs/hysarl/lib/python3.10/site-packages/gymnasium/envs/registration.py:519: DeprecationWarning: \u001b[33mWARN: The environment HalfCheetah-v4 is out of date. You should consider upgrading to version `v5`.\u001b[0m\n",
      "  logger.deprecation(\n"
     ]
    },
    {
     "name": "stdout",
     "output_type": "stream",
     "text": [
      "✅ Created mujoco environment: HalfCheetah-v4\n",
      "Initializing fast Brax environment: halfcheetah\n",
      "✅ Fast Brax environment initialized with JIT compilation\n",
      "  Observation space: Box(-inf, inf, (17,), float32)\n",
      "  Action space: Box(-1.0, 1.0, (6,), float32)\n",
      "✅ Created brax environment: BraxHalfCheetah-v0\n",
      "✅ Created 2 environment types for sequential training.\n"
     ]
    },
    {
     "name": "stderr",
     "output_type": "stream",
     "text": [
      "/Users/felixpasewaldt/opt/anaconda3/envs/hysarl/lib/python3.10/site-packages/numpy/_core/fromnumeric.py:3860: RuntimeWarning: Mean of empty slice.\n",
      "  return _methods._mean(a, axis=axis, dtype=dtype,\n",
      "/Users/felixpasewaldt/opt/anaconda3/envs/hysarl/lib/python3.10/site-packages/numpy/_core/_methods.py:145: RuntimeWarning: invalid value encountered in scalar divide\n",
      "  ret = ret.dtype.type(ret / rcount)\n"
     ]
    },
    {
     "name": "stdout",
     "output_type": "stream",
     "text": [
      "\n",
      "Episode 1/500 Summary:\n",
      "mujoco:  Mean Reward: -10.516  Mean Steps: 1000.0  Avg Duration: 0.057s\n",
      "brax:  Mean Reward: 42.380  Mean Steps: 1000.0  Avg Duration: 5.418s\n"
     ]
    }
   ],
   "source": [
    "\n",
    "from src.experiment import halfchetah_experiment\n",
    "\n",
    "\n",
    "halfchetah_experiment({'mujoco': 1.0, 'brax': 0})"
   ]
  }
 ],
 "metadata": {
  "kernelspec": {
   "display_name": "hysarl",
   "language": "python",
   "name": "python3"
  },
  "language_info": {
   "codemirror_mode": {
    "name": "ipython",
    "version": 3
   },
   "file_extension": ".py",
   "mimetype": "text/x-python",
   "name": "python",
   "nbconvert_exporter": "python",
   "pygments_lexer": "ipython3",
   "version": "3.10.16"
  }
 },
 "nbformat": 4,
 "nbformat_minor": 2
}
